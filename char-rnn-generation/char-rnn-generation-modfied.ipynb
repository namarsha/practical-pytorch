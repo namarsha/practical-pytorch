{
 "cells": [
  {
   "cell_type": "markdown",
   "metadata": {},
   "source": [
    "# Prepare data"
   ]
  },
  {
   "cell_type": "code",
   "execution_count": 1,
   "metadata": {},
   "outputs": [],
   "source": [
    "#Note: original code forked from practical python repo wasn't working. Implement the following suggestions \n",
    "#provided by user: BlindElephants:\n",
    "\n",
    "# loss += criterion(output, target[c])\n",
    "\n",
    "# should be changed to:\n",
    "\n",
    "# loss += criterion(output, target[c].unsqueeze(0))\n",
    "\n",
    "# Change line 54 from this:\n",
    "\n",
    "# return loss.data[0] / args.chunk_len\n",
    "\n",
    "#return loss.data.item() / args.chunk_len"
   ]
  },
  {
   "cell_type": "code",
   "execution_count": 2,
   "metadata": {},
   "outputs": [
    {
     "name": "stdout",
     "output_type": "stream",
     "text": [
      "file_len = 106191\n"
     ]
    }
   ],
   "source": [
    "import unidecode\n",
    "import string\n",
    "import random\n",
    "import re\n",
    "import os\n",
    "\n",
    "all_characters = string.printable\n",
    "n_characters = len(all_characters)\n",
    "\n",
    "cwd = os.getcwd()\n",
    "\n",
    "\n",
    "file = unidecode.unidecode(open(cwd + '/thetempest.txt').read())\n",
    "file_len = len(file)\n",
    "print('file_len =', file_len)"
   ]
  },
  {
   "cell_type": "code",
   "execution_count": null,
   "metadata": {},
   "outputs": [],
   "source": []
  },
  {
   "cell_type": "markdown",
   "metadata": {},
   "source": [
    "To make inputs out of this big string of data, we will be splitting it into chunks."
   ]
  },
  {
   "cell_type": "code",
   "execution_count": 3,
   "metadata": {},
   "outputs": [
    {
     "name": "stdout",
     "output_type": "stream",
     "text": [
      " bound up.\n",
      "    My father's loss, the weakness which I feel,\n",
      "    The wreck of all my friends, nor this man's threats,\n",
      "    To whom I am subdued, are but light to me,\n",
      "    Might I but through my prison onc\n"
     ]
    }
   ],
   "source": [
    "chunk_len = 200\n",
    "\n",
    "def random_chunk():\n",
    "    start_index = random.randint(0, file_len - chunk_len)\n",
    "    end_index = start_index + chunk_len + 1\n",
    "    return file[start_index:end_index]\n",
    "\n",
    "print(random_chunk())"
   ]
  },
  {
   "cell_type": "markdown",
   "metadata": {},
   "source": [
    "# Build the Model\n",
    "\n",
    "This model will take as input the character for step $t_{-1}$ and is expected to output the next character $t$. There are three layers - one linear layer that encodes the input character into an internal state, one GRU layer (which may itself have multiple layers) that operates on that internal state and a hidden state, and a decoder layer that outputs the probability distribution."
   ]
  },
  {
   "cell_type": "code",
   "execution_count": 4,
   "metadata": {},
   "outputs": [],
   "source": [
    "import torch\n",
    "import torch.nn as nn\n",
    "from torch.autograd import Variable\n",
    "\n",
    "class RNN(nn.Module):\n",
    "    def __init__(self, input_size, hidden_size, output_size, n_layers=1):\n",
    "        super(RNN, self).__init__()\n",
    "        self.input_size = input_size\n",
    "        self.hidden_size = hidden_size\n",
    "        self.output_size = output_size\n",
    "        self.n_layers = n_layers\n",
    "        \n",
    "        self.encoder = nn.Embedding(input_size, hidden_size)\n",
    "        self.gru = nn.GRU(hidden_size, hidden_size, n_layers)\n",
    "        self.decoder = nn.Linear(hidden_size, output_size)\n",
    "    \n",
    "    def forward(self, input, hidden):\n",
    "        input = self.encoder(input.view(1, -1))\n",
    "        output, hidden = self.gru(input.view(1, 1, -1), hidden)\n",
    "        output = self.decoder(output.view(1, -1))\n",
    "        return output, hidden\n",
    "\n",
    "    def init_hidden(self):\n",
    "        return Variable(torch.zeros(self.n_layers, 1, self.hidden_size))"
   ]
  },
  {
   "cell_type": "markdown",
   "metadata": {},
   "source": [
    "# Inputs and Targets"
   ]
  },
  {
   "cell_type": "markdown",
   "metadata": {},
   "source": [
    "Each chunk will be turned into a tensor, specifically a `LongTensor` (used for integer values), by looping through the characters of the string and looking up the index of each character in `all_characters`."
   ]
  },
  {
   "cell_type": "code",
   "execution_count": 5,
   "metadata": {},
   "outputs": [
    {
     "name": "stdout",
     "output_type": "stream",
     "text": [
      "tensor([10, 11, 12, 39, 40, 41])\n"
     ]
    }
   ],
   "source": [
    "# Turn string into list of longs\n",
    "def char_tensor(string):\n",
    "    tensor = torch.zeros(len(string)).long()\n",
    "    for c in range(len(string)):\n",
    "        tensor[c] = all_characters.index(string[c])\n",
    "    return Variable(tensor)\n",
    "\n",
    "print(char_tensor('abcDEF'))"
   ]
  },
  {
   "cell_type": "markdown",
   "metadata": {},
   "source": [
    "Finally we can assemble a pair of input and target tensors for training, from a random chunk. The input will be all characters *up to the last*, and the target will be all characters *from the first*. So if our chunk is \"abc\" the input will correspond to \"ab\" while the target is \"bc\"."
   ]
  },
  {
   "cell_type": "code",
   "execution_count": 6,
   "metadata": {},
   "outputs": [],
   "source": [
    "def random_training_set():    \n",
    "    chunk = random_chunk()\n",
    "    inp = char_tensor(chunk[:-1])\n",
    "    target = char_tensor(chunk[1:])\n",
    "    return inp, target"
   ]
  },
  {
   "cell_type": "markdown",
   "metadata": {},
   "source": [
    "# Evaluating\n",
    "\n",
    "To evaluate the network we will feed one character at a time, use the outputs of the network as a probability distribution for the next character, and repeat. To start generation we pass a priming string to start building up the hidden state, from which we then generate one character at a time."
   ]
  },
  {
   "cell_type": "code",
   "execution_count": 7,
   "metadata": {},
   "outputs": [],
   "source": [
    "def evaluate(prime_str='A', predict_len=100, temperature=0.8):\n",
    "    hidden = decoder.init_hidden()\n",
    "    prime_input = char_tensor(prime_str)\n",
    "    predicted = prime_str\n",
    "\n",
    "    # Use priming string to \"build up\" hidden state\n",
    "    for p in range(len(prime_str) - 1):\n",
    "        _, hidden = decoder(prime_input[p], hidden)\n",
    "    inp = prime_input[-1]\n",
    "    \n",
    "    for p in range(predict_len):\n",
    "        output, hidden = decoder(inp, hidden)\n",
    "        \n",
    "        # Sample from the network as a multinomial distribution\n",
    "        output_dist = output.data.view(-1).div(temperature).exp()\n",
    "        top_i = torch.multinomial(output_dist, 1)[0]\n",
    "        \n",
    "        # Add predicted character to string and use as next input\n",
    "        predicted_char = all_characters[top_i]\n",
    "        predicted += predicted_char\n",
    "        inp = char_tensor(predicted_char)\n",
    "\n",
    "    return predicted"
   ]
  },
  {
   "cell_type": "markdown",
   "metadata": {},
   "source": [
    "# Training"
   ]
  },
  {
   "cell_type": "markdown",
   "metadata": {},
   "source": [
    "A helper to print the amount of time passed:"
   ]
  },
  {
   "cell_type": "code",
   "execution_count": 8,
   "metadata": {},
   "outputs": [],
   "source": [
    "import time, math\n",
    "\n",
    "def time_since(since):\n",
    "    s = time.time() - since\n",
    "    m = math.floor(s / 60)\n",
    "    s -= m * 60\n",
    "    return '%dm %ds' % (m, s)"
   ]
  },
  {
   "cell_type": "markdown",
   "metadata": {},
   "source": [
    "The main training function"
   ]
  },
  {
   "cell_type": "code",
   "execution_count": 9,
   "metadata": {},
   "outputs": [],
   "source": [
    "def train(inp, target):\n",
    "    hidden = decoder.init_hidden()\n",
    "    decoder.zero_grad()\n",
    "    loss = 0\n",
    "\n",
    "    for c in range(chunk_len):\n",
    "        output, hidden = decoder(inp[c], hidden)\n",
    "        loss += criterion(output, target[c].unsqueeze(0))\n",
    "\n",
    "    loss.backward()\n",
    "    decoder_optimizer.step()\n",
    "\n",
    "    return loss.data.item() / chunk_len"
   ]
  },
  {
   "cell_type": "markdown",
   "metadata": {},
   "source": [
    "Then we define the training parameters, instantiate the model, and start training:"
   ]
  },
  {
   "cell_type": "code",
   "execution_count": 10,
   "metadata": {
    "scrolled": false
   },
   "outputs": [
    {
     "name": "stdout",
     "output_type": "stream",
     "text": [
      "[0m 11s (100 5%) 2.2305]\n",
      "Why momel sthate tho peilell, waves the were mise hais nosd and in\n",
      "   A what poule alide be menist ste \n",
      "\n",
      "[0m 23s (200 10%) 1.9616]\n",
      "Wht.\n",
      "\n",
      "MIBANSO\n",
      "\n",
      "    PALO, ALIBANZALON\n",
      "\n",
      "     Bing terew.\n",
      "\n",
      "    Sither sit but spent late,\n",
      "     Whill you  \n",
      "\n",
      "[0m 34s (300 15%) 1.7992]\n",
      "Wh'light\n",
      "    I this I hopers, maring,\n",
      "    And ar orreas; as hall hore, thou shomsing,\n",
      "    Whese o's at \n",
      "\n",
      "[0m 45s (400 20%) 1.7293]\n",
      "Wh\n",
      "    Whe my colock the nerver they fran fortef'd the mants: pul of hing ould be I colodan.\n",
      "\n",
      "ARIEL\n",
      "\n",
      "  \n",
      "\n",
      "[0m 56s (500 25%) 1.6518]\n",
      "Wher as mane recofats,\n",
      "    TTONIO\n",
      "\n",
      "    as now  A hatse the the for may thenow'd ARIEL\n",
      "\n",
      "    Nepremen.\n",
      "\n",
      " \n",
      "\n",
      "[1m 7s (600 30%) 1.7276]\n",
      "Whaty this now, in prith!\n",
      "\n",
      "    Oander woremst\n",
      "    By my atery quites!\n",
      "\n",
      "STEPHANO\n",
      "\n",
      "    What, Frontededs  \n",
      "\n",
      "[1m 18s (700 35%) 1.6437]\n",
      "Wh: MIRANDA\n",
      "\n",
      "CALIBAN\n",
      "\n",
      "    A islinver lord: shorme puliter, how and no she with the there hore ender sh \n",
      "\n",
      "[1m 28s (800 40%) 1.6475]\n",
      "Whish, the have,\n",
      "    Aes then isler my sas of tay of these for thee live\n",
      "    for how mouch my of the w \n",
      "\n",
      "[1m 38s (900 45%) 1.8807]\n",
      "Wh me tho make to meand\n",
      "     And the rinch mose a woll!  I would to hather but to my like then your an \n",
      "\n",
      "[1m 49s (1000 50%) 1.6976]\n",
      "Wh of moir his pirithter, lais and dear: upon, the,\n",
      "    Drave forts, thou this was the monster this mu \n",
      "\n",
      "[2m 0s (1100 55%) 1.6270]\n",
      "Wh most will buld nemeractener,\n",
      "    Prolacted lout lape.\n",
      "\n",
      "FERDINAND\n",
      "\n",
      "    Sigh thou dise place,--hatmed \n",
      "\n",
      "[2m 10s (1200 60%) 1.4672]\n",
      "Wh came,\n",
      "    A be to glastave tembit\n",
      "    I thust have this do all be took. Buct thee  more enemor and  \n",
      "\n",
      "[2m 21s (1300 65%) 1.4794]\n",
      "Wh spire?\n",
      "\n",
      "CALIBAN\n",
      "\n",
      "    The me genswaw-still the manit; to the loonition.\n",
      "\n",
      "IER   a call me ater, I whi \n",
      "\n",
      "[2m 31s (1400 70%) 1.5871]\n",
      "Wh her eye\n",
      "    Be reemoe as loert, pelf, the isleble and Shat,\n",
      "    I conderty of frear cawned the mast \n",
      "\n",
      "[2m 42s (1500 75%) 1.7456]\n",
      "Wh, here mith a much the rather--\n",
      "    Did, of inly, in the surfer such loss,\n",
      "    For this speeder.\n",
      "\n",
      "MI \n",
      "\n",
      "[2m 54s (1600 80%) 1.5800]\n",
      "Whom my sevirst mornt:\n",
      "    And worked to purrient be speepher is life'd,\n",
      "    What of that of his dered \n",
      "\n",
      "[3m 5s (1700 85%) 1.7579]\n",
      "Whil kno dunkir, and now not.\n",
      "\n",
      "\n",
      "PROSPERO\n",
      "\n",
      "    [A the spear to dander So not you, langue is with then o \n",
      "\n",
      "[3m 16s (1800 90%) 1.5858]\n",
      "Wh'd minist and lose man abone: on theach in me,\n",
      "    Seas mittly all here owns to monster, and\n",
      "    whe \n",
      "\n",
      "[3m 26s (1900 95%) 1.4286]\n",
      "Wh pricks ourself be kit the capest\n",
      "    Whise I spirit! O\n",
      "    As well what a carthart dost the my and  \n",
      "\n",
      "[3m 37s (2000 100%) 1.6064]\n",
      "Wh hones make in anded all mat;\n",
      "    And here we lord honier calt them compouck\n",
      "    Where you deven?\n",
      "\n",
      "A \n",
      "\n"
     ]
    }
   ],
   "source": [
    "n_epochs = 2000\n",
    "print_every = 100\n",
    "plot_every = 10\n",
    "hidden_size = 100\n",
    "n_layers = 1\n",
    "lr = 0.005\n",
    "\n",
    "decoder = RNN(n_characters, hidden_size, n_characters, n_layers)\n",
    "decoder_optimizer = torch.optim.Adam(decoder.parameters(), lr=lr)\n",
    "criterion = nn.CrossEntropyLoss()\n",
    "\n",
    "start = time.time()\n",
    "all_losses = []\n",
    "loss_avg = 0\n",
    "\n",
    "for epoch in range(1, n_epochs + 1):\n",
    "    loss = train(*random_training_set())       \n",
    "    loss_avg += loss\n",
    "\n",
    "    if epoch % print_every == 0:\n",
    "        print('[%s (%d %d%%) %.4f]' % (time_since(start), epoch, epoch / n_epochs * 100, loss))\n",
    "        print(evaluate('Wh', 100), '\\n')\n",
    "\n",
    "    if epoch % plot_every == 0:\n",
    "        all_losses.append(loss_avg / plot_every)\n",
    "        loss_avg = 0"
   ]
  },
  {
   "cell_type": "markdown",
   "metadata": {},
   "source": [
    "# Plotting the Training Losses\n",
    "\n",
    "Plotting the historical loss from all_losses shows the network learning:"
   ]
  },
  {
   "cell_type": "code",
   "execution_count": 11,
   "metadata": {},
   "outputs": [
    {
     "data": {
      "text/plain": [
       "[<matplotlib.lines.Line2D at 0x1790de275b0>]"
      ]
     },
     "execution_count": 11,
     "metadata": {},
     "output_type": "execute_result"
    },
    {
     "data": {
      "image/png": "[encoded data removed]",
      "text/plain": [
       "<Figure size 432x288 with 1 Axes>"
      ]
     },
     "metadata": {
      "needs_background": "light"
     },
     "output_type": "display_data"
    }
   ],
   "source": [
    "import matplotlib.pyplot as plt\n",
    "import matplotlib.ticker as ticker\n",
    "%matplotlib inline\n",
    "\n",
    "plt.figure()\n",
    "plt.plot(all_losses)"
   ]
  },
  {
   "cell_type": "markdown",
   "metadata": {},
   "source": [
    "# Evaluating at different \"temperatures\"\n",
    "\n",
    "In the `evaluate` function above, every time a prediction is made the outputs are divided by the \"temperature\" argument passed. Using a higher number makes all actions more equally likely, and thus gives us \"more random\" outputs. Using a lower value (less than 1) makes high probabilities contribute more. As we turn the temperature towards zero we are choosing only the most likely outputs.\n",
    "\n",
    "We can see the effects of this by adjusting the `temperature` argument."
   ]
  },
  {
   "cell_type": "code",
   "execution_count": 12,
   "metadata": {},
   "outputs": [
    {
     "name": "stdout",
     "output_type": "stream",
     "text": [
      "Thou hen to such'd\n",
      "    And not omer a changes, me? Now here.'\n",
      "\n",
      "PROSPERO\n",
      "\n",
      "    My'll requeses thoul of my know,\n",
      "    My mege move.\n",
      "    Wheres kneater son your sweaker. With her most bems,\n",
      "    Beronench and\n"
     ]
    }
   ],
   "source": [
    "print(evaluate('Th', 200, temperature=0.8))"
   ]
  },
  {
   "cell_type": "markdown",
   "metadata": {},
   "source": [
    "Lower temperatures are less varied, choosing only the more probable outputs:"
   ]
  },
  {
   "cell_type": "code",
   "execution_count": 13,
   "metadata": {},
   "outputs": [
    {
     "name": "stdout",
     "output_type": "stream",
     "text": [
      "The king of the speech,\n",
      "    When the more the king the be of to be my spirits of the pech,\n",
      "    And the king of the more a be do be the manted to the king of the be one the ment of the speep and the pera\n"
     ]
    }
   ],
   "source": [
    "print(evaluate('Th', 200, temperature=0.2))"
   ]
  },
  {
   "cell_type": "markdown",
   "metadata": {},
   "source": [
    "Higher temperatures more varied, choosing less probable outputs:"
   ]
  },
  {
   "cell_type": "code",
   "execution_count": 14,
   "metadata": {},
   "outputs": [
    {
     "name": "stdout",
     "output_type": "stream",
     "text": [
      "Then they,\n",
      "    no sea', ly lashsterce\n",
      "    Ye?\n",
      "\n",
      "    Niver mengs I-and loss\n",
      "    anrof of I webrerce; the dul ando!\n",
      "    We fethee, of I'll my in vemn idy.\n",
      "\n",
      "PROSPERO\n",
      "\n",
      "    The dent: pritzE, SPROwilt: Doonest\n"
     ]
    }
   ],
   "source": [
    "print(evaluate('Th', 200, temperature=1.4))"
   ]
  },
  {
   "cell_type": "markdown",
   "metadata": {
    "collapsed": true
   },
   "source": [
    "# Exercises\n",
    "\n",
    "* Train with your own dataset, e.g.\n",
    "    * Text from another author\n",
    "    * Blog posts\n",
    "    * Code\n",
    "* Increase number of layers and network size to get better results"
   ]
  },
  {
   "cell_type": "markdown",
   "metadata": {},
   "source": [
    "**Next**: [Generating Names with a Conditional Character-Level RNN](https://github.com/spro/practical-pytorch/blob/master/conditional-char-rnn/conditional-char-rnn.ipynb)"
   ]
  }
 ],
 "metadata": {
  "anaconda-cloud": {},
  "kernelspec": {
   "display_name": "Python 3",
   "language": "python",
   "name": "python3"
  },
  "language_info": {
   "codemirror_mode": {
    "name": "ipython",
    "version": 3
   },
   "file_extension": ".py",
   "mimetype": "text/x-python",
   "name": "python",
   "nbconvert_exporter": "python",
   "pygments_lexer": "ipython3",
   "version": "3.8.5"
  },
  "varInspector": {
   "cols": {
    "lenName": 16,
    "lenType": 16,
    "lenVar": 40
   },
   "kernels_config": {
    "python": {
     "delete_cmd_postfix": "",
     "delete_cmd_prefix": "del ",
     "library": "var_list.py",
     "varRefreshCmd": "print(var_dic_list())"
    },
    "r": {
     "delete_cmd_postfix": ") ",
     "delete_cmd_prefix": "rm(",
     "library": "var_list.r",
     "varRefreshCmd": "cat(var_dic_list()) "
    }
   },
   "types_to_exclude": [
    "module",
    "function",
    "builtin_function_or_method",
    "instance",
    "_Feature"
   ],
   "window_display": false
  }
 },
 "nbformat": 4,
 "nbformat_minor": 1
}
